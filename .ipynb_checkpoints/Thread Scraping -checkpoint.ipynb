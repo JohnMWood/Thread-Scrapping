{
 "cells": [
  {
   "cell_type": "markdown",
   "metadata": {},
   "source": [
    "# Web Scraping and Multithreading in Python \n",
    "\n",
    "Here is my first attempt at a Jupyter notebook. I'm using multithreading as part of a parallelism and concurrency class I'm taking this semeseter. This is a simple application of web scraping on my statistic's class online textbook. \n",
    "\n",
    "### Dependencies: "
   ]
  },
  {
   "cell_type": "code",
   "execution_count": 1,
   "metadata": {
    "collapsed": true
   },
   "outputs": [],
   "source": [
    "import threading\n",
    "from bs4 import BeautifulSoup\n",
    "import requests"
   ]
  },
  {
   "cell_type": "markdown",
   "metadata": {},
   "source": [
    "### List of Titles: \n",
    "\n",
    "In my MATH 221 textbook, the url uses titles instead of id numbers. Here I will access txt file that I have made by hand. I believe I could regex on the request.txt to get the titles, but I didn't focus on that for the purposes of this assignment. I'm stripping the single quotes on the file to get just the names and import them as a list. The start url will remain the same for the entire program. "
   ]
  },
  {
   "cell_type": "code",
   "execution_count": 2,
   "metadata": {
    "collapsed": true
   },
   "outputs": [],
   "source": [
    "titles_list = open('threading_scraping/stats_titles.txt').read()\n",
    "titles_list = titles_list.replace('\\'', '').split(',')\n",
    "\n",
    "start_url = 'http://statistics.byuimath.com/index.php?title='"
   ]
  },
  {
   "cell_type": "markdown",
   "metadata": {},
   "source": [
    "### Key Functions: \n",
    "\n",
    "- Parse site takes in a url string, uses BeautifulSoup to get the web page, and then print the title of the page\n",
    "- With and without threads are pretty self-explanatory "
   ]
  },
  {
   "cell_type": "code",
   "execution_count": 3,
   "metadata": {
    "collapsed": true
   },
   "outputs": [],
   "source": [
    "def parse_site(url_text):\n",
    "    soup = BeautifulSoup(requests.get(url_text).text, 'html5lib')\n",
    "    print(soup.title)"
   ]
  },
  {
   "cell_type": "code",
   "execution_count": 4,
   "metadata": {
    "collapsed": true
   },
   "outputs": [],
   "source": [
    "def without_threads(start_url, titles):\n",
    "    for title in titles:\n",
    "        parse_site(start_url + title)"
   ]
  },
  {
   "cell_type": "code",
   "execution_count": 5,
   "metadata": {
    "collapsed": true
   },
   "outputs": [],
   "source": [
    "def with_threads(start_url, titles):\n",
    "    threads = []\n",
    "\n",
    "    for title in titles:\n",
    "        url = start_url + title # single string for argument\n",
    "\n",
    "        t = threading.Thread(target=parse_site, args=(url,))\n",
    "        t.start()\n",
    "        threads.append(t)\n",
    "        \n",
    "    for th in threads:\n",
    "        th.join()\n"
   ]
  },
  {
   "cell_type": "markdown",
   "metadata": {},
   "source": [
    "---\n",
    "# Testing: \n",
    "\n",
    "Let's try calling both of the functions and compare the speeds with and without multithreading. \n",
    "\n",
    "### With Threads: "
   ]
  },
  {
   "cell_type": "code",
   "execution_count": 6,
   "metadata": {},
   "outputs": [
    {
     "name": "stdout",
     "output_type": "stream",
     "text": [
      "<title>Lesson 1: Course Introduction - BYU-I Statistics Text</title>\n",
      "<title>Bad title - BYU-I Statistics Text</title>\n",
      "<title>Lesson 3: Describing Quantitative Data - BYU-I Statistics Text</title>\n",
      "<title>Lesson 6: Distribution of Sample Means - BYU-I Statistics Text</title>\n",
      "<title>Internal error - BYU-I Statistics Text</title>\n",
      "<title>Internal error - BYU-I Statistics Text</title>\n",
      "<title>Internal error - BYU-I Statistics Text</title>\n",
      "<title>Lesson 10: Inference for One Mean: Sigma Known (Confidence Interval) - BYU-I Statistics Text</title>\n",
      "<title>Lesson 5: Normal Distributions - BYU-I Statistics Text</title><title>Lesson 7: Probability Calculations involving a Mean Response - BYU-I Statistics Text</title><title>Lesson 2: The Statistical Process &amp; Design of Studies - BYU-I Statistics Text</title><title>Lesson 21: Describing Bivariate Data: Scatterplots - BYU-I Statistics Text</title><title>Lesson 15: Review for Exam 2 - BYU-I Statistics Text</title><title>&amp; Covariance - BYU-I Statistics Text</title><title>Correlation - BYU-I Statistics Text</title>\n",
      "\n",
      "\n",
      "\n",
      "\n",
      "\n",
      "\n",
      "<title>Lesson 14: Inference for Several Means (ANOVA) - BYU-I Statistics Text</title>\n",
      "<title>Lesson 17: Inference for One Proportion - BYU-I Statistics Text</title><title>Lesson 9: Inference for One Mean: Sigma Known (Hypothesis Test) - BYU-I Statistics Text</title><title>Lesson 4: Probability; Discrete Random Variables - BYU-I Statistics Text</title><title>Lesson 16: Describing Categorical Data: Proportions; Sampling Distribution of a Sample Proportion - BYU-I Statistics Text</title><title>Lesson 18: Inference for Two Proportions - BYU-I Statistics Text</title><title>Lesson 23: Inference for Bivariate Data - BYU-I Statistics Text</title><title>Lesson 11: Inference for One Mean: Sigma Unknown - BYU-I Statistics Text</title><title>Lesson 22: Simple Linear Regression - BYU-I Statistics Text</title><title>Lesson 20: Review for Exam 3 - BYU-I Statistics Text</title><title>Lesson 24: Review for Exam 4 - BYU-I Statistics Text</title><title>Lesson 13: Inference for Two Means: Independent Samples - BYU-I Statistics Text</title>\n",
      "\n",
      "\n",
      "\n",
      "\n",
      "\n",
      "\n",
      "\n",
      "\n",
      "\n",
      "\n",
      "<title>Lesson 1: Course Introduction - BYU-I Statistics Text</title>\n",
      "<title>Lesson 3: Describing Quantitative Data - BYU-I Statistics Text</title>\n",
      "<title>Lesson 2: The Statistical Process &amp; Design of Studies - BYU-I Statistics Text</title><title>Lesson 5: Normal Distributions - BYU-I Statistics Text</title>\n",
      "<title>Lesson 8: Review for Exam 1 - BYU-I Statistics Text</title>\n",
      "\n",
      "<title>Lesson 6: Distribution of Sample Means - BYU-I Statistics Text</title>\n",
      "<title>Lesson 15: Review for Exam 2 - BYU-I Statistics Text</title>\n",
      "<title>Lesson 11: Inference for One Mean: Sigma Unknown - BYU-I Statistics Text</title><title>Bad title - BYU-I Statistics Text</title><title>Lesson 13: Inference for Two Means: Independent Samples - BYU-I Statistics Text</title><title>Lesson 7: Probability Calculations involving a Mean Response - BYU-I Statistics Text</title><title>Correlation - BYU-I Statistics Text</title><title>Lesson 12: Inference for Two Means: Paired Data - BYU-I Statistics Text</title><title>Lesson 9: Inference for One Mean: Sigma Known (Hypothesis Test) - BYU-I Statistics Text</title>\n",
      "\n",
      "\n",
      "\n",
      "\n",
      "\n",
      "<title>&amp; Covariance - BYU-I Statistics Text</title>\n",
      "\n",
      "<title>Lesson 10: Inference for One Mean: Sigma Known (Confidence Interval) - BYU-I Statistics Text</title><title>Lesson 16: Describing Categorical Data: Proportions; Sampling Distribution of a Sample Proportion - BYU-I Statistics Text</title>\n",
      "<title>Lesson 4: Probability; Discrete Random Variables - BYU-I Statistics Text</title>\n",
      "\n",
      "<title>Lesson 14: Inference for Several Means (ANOVA) - BYU-I Statistics Text</title>\n",
      "<title>Lesson 22: Simple Linear Regression - BYU-I Statistics Text</title>\n",
      "<title>Lesson 17: Inference for One Proportion - BYU-I Statistics Text</title>\n",
      "<title>Lesson 20: Review for Exam 3 - BYU-I Statistics Text</title>\n",
      "<title>Lesson 18: Inference for Two Proportions - BYU-I Statistics Text</title>\n",
      "<title>Lesson 19: Inference for Independence of Categorical Data - BYU-I Statistics Text</title>\n",
      "<title>Lesson 23: Inference for Bivariate Data - BYU-I Statistics Text</title>\n",
      "<title>Lesson 24: Review for Exam 4 - BYU-I Statistics Text</title>\n",
      "<title>Lesson 21: Describing Bivariate Data: Scatterplots - BYU-I Statistics Text</title>\n",
      "<title>Lesson 1: Course Introduction - BYU-I Statistics Text</title>\n",
      "<title>Lesson 6: Distribution of Sample Means - BYU-I Statistics Text</title>\n",
      "<title>Lesson 4: Probability; Discrete Random Variables - BYU-I Statistics Text</title>\n",
      "<title>Lesson 3: Describing Quantitative Data - BYU-I Statistics Text</title>\n",
      "<title>Lesson 2: The Statistical Process &amp; Design of Studies - BYU-I Statistics Text</title>\n",
      "<title>Lesson 7: Probability Calculations involving a Mean Response - BYU-I Statistics Text</title>\n",
      "<title>Lesson 10: Inference for One Mean: Sigma Known (Confidence Interval) - BYU-I Statistics Text</title>\n",
      "<title>Lesson 15: Review for Exam 2 - BYU-I Statistics Text</title>\n",
      "<title>Lesson 8: Review for Exam 1 - BYU-I Statistics Text</title><title>Lesson 5: Normal Distributions - BYU-I Statistics Text</title><title>Lesson 14: Inference for Several Means (ANOVA) - BYU-I Statistics Text</title>\n",
      "\n",
      "\n",
      "<title>Lesson 20: Review for Exam 3 - BYU-I Statistics Text</title>\n",
      "<title>&amp; Covariance - BYU-I Statistics Text</title>\n",
      "<title>Lesson 9: Inference for One Mean: Sigma Known (Hypothesis Test) - BYU-I Statistics Text</title>\n",
      "<title>Bad title - BYU-I Statistics Text</title>\n",
      "<title>Lesson 11: Inference for One Mean: Sigma Unknown - BYU-I Statistics Text</title>\n",
      "<title>Lesson 22: Simple Linear Regression - BYU-I Statistics Text</title>\n",
      "<title>Correlation - BYU-I Statistics Text</title><title>Lesson 16: Describing Categorical Data: Proportions; Sampling Distribution of a Sample Proportion - BYU-I Statistics Text</title><title>Lesson 12: Inference for Two Means: Paired Data - BYU-I Statistics Text</title>\n",
      "\n",
      "<title>Lesson 13: Inference for Two Means: Independent Samples - BYU-I Statistics Text</title><title>Lesson 17: Inference for One Proportion - BYU-I Statistics Text</title><title>Lesson 21: Describing Bivariate Data: Scatterplots - BYU-I Statistics Text</title>\n",
      "<title>Lesson 19: Inference for Independence of Categorical Data - BYU-I Statistics Text</title>\n",
      "\n",
      "\n",
      "\n",
      "<title>Lesson 23: Inference for Bivariate Data - BYU-I Statistics Text</title>\n",
      "<title>Lesson 18: Inference for Two Proportions - BYU-I Statistics Text</title><title>Lesson 24: Review for Exam 4 - BYU-I Statistics Text</title>\n",
      "\n",
      "<title>Lesson 6: Distribution of Sample Means - BYU-I Statistics Text</title>\n",
      "<title>Lesson 1: Course Introduction - BYU-I Statistics Text</title>\n",
      "<title>Lesson 2: The Statistical Process &amp; Design of Studies - BYU-I Statistics Text</title>\n",
      "<title>Lesson 7: Probability Calculations involving a Mean Response - BYU-I Statistics Text</title>\n",
      "<title>Lesson 3: Describing Quantitative Data - BYU-I Statistics Text</title>\n",
      "<title>Lesson 10: Inference for One Mean: Sigma Known (Confidence Interval) - BYU-I Statistics Text</title>\n",
      "<title>Lesson 8: Review for Exam 1 - BYU-I Statistics Text</title>\n",
      "<title>Lesson 4: Probability; Discrete Random Variables - BYU-I Statistics Text</title>\n",
      "<title>Lesson 5: Normal Distributions - BYU-I Statistics Text</title>\n",
      "<title>Lesson 16: Describing Categorical Data: Proportions; Sampling Distribution of a Sample Proportion - BYU-I Statistics Text</title>\n",
      "<title>Lesson 12: Inference for Two Means: Paired Data - BYU-I Statistics Text</title><title>Correlation - BYU-I Statistics Text</title><title>Bad title - BYU-I Statistics Text</title>\n",
      "\n",
      "<title>Lesson 11: Inference for One Mean: Sigma Unknown - BYU-I Statistics Text</title><title>Lesson 15: Review for Exam 2 - BYU-I Statistics Text</title>\n",
      "\n",
      "\n",
      "<title>Lesson 14: Inference for Several Means (ANOVA) - BYU-I Statistics Text</title><title>&amp; Covariance - BYU-I Statistics Text</title>\n",
      "\n",
      "<title>Lesson 9: Inference for One Mean: Sigma Known (Hypothesis Test) - BYU-I Statistics Text</title>\n",
      "<title>Lesson 19: Inference for Independence of Categorical Data - BYU-I Statistics Text</title><title>Lesson 17: Inference for One Proportion - BYU-I Statistics Text</title><title>Lesson 21: Describing Bivariate Data: Scatterplots - BYU-I Statistics Text</title><title>Lesson 23: Inference for Bivariate Data - BYU-I Statistics Text</title><title>Lesson 13: Inference for Two Means: Independent Samples - BYU-I Statistics Text</title><title>Lesson 18: Inference for Two Proportions - BYU-I Statistics Text</title>\n",
      "\n",
      "\n",
      "\n",
      "\n",
      "\n"
     ]
    },
    {
     "name": "stdout",
     "output_type": "stream",
     "text": [
      "<title>Lesson 24: Review for Exam 4 - BYU-I Statistics Text</title>\n",
      "<title>Lesson 22: Simple Linear Regression - BYU-I Statistics Text</title>\n",
      "<title>Lesson 20: Review for Exam 3 - BYU-I Statistics Text</title>\n",
      "1 loop, best of 3: 4 s per loop\n"
     ]
    }
   ],
   "source": [
    "%%timeit \n",
    "with_threads(start_url, titles_list)"
   ]
  },
  {
   "cell_type": "markdown",
   "metadata": {},
   "source": [
    "### Without Threads:"
   ]
  },
  {
   "cell_type": "code",
   "execution_count": 7,
   "metadata": {},
   "outputs": [
    {
     "name": "stdout",
     "output_type": "stream",
     "text": [
      "<title>Lesson 1: Course Introduction - BYU-I Statistics Text</title>\n",
      "<title>Lesson 2: The Statistical Process &amp; Design of Studies - BYU-I Statistics Text</title>\n",
      "<title>Lesson 3: Describing Quantitative Data - BYU-I Statistics Text</title>\n",
      "<title>Lesson 4: Probability; Discrete Random Variables - BYU-I Statistics Text</title>\n",
      "<title>Lesson 5: Normal Distributions - BYU-I Statistics Text</title>\n",
      "<title>Lesson 6: Distribution of Sample Means - BYU-I Statistics Text</title>\n",
      "<title>Lesson 7: Probability Calculations involving a Mean Response - BYU-I Statistics Text</title>\n",
      "<title>Lesson 8: Review for Exam 1 - BYU-I Statistics Text</title>\n",
      "<title>Lesson 9: Inference for One Mean: Sigma Known (Hypothesis Test) - BYU-I Statistics Text</title>\n",
      "<title>Lesson 10: Inference for One Mean: Sigma Known (Confidence Interval) - BYU-I Statistics Text</title>\n",
      "<title>Lesson 11: Inference for One Mean: Sigma Unknown - BYU-I Statistics Text</title>\n",
      "<title>Lesson 12: Inference for Two Means: Paired Data - BYU-I Statistics Text</title>\n",
      "<title>Lesson 13: Inference for Two Means: Independent Samples - BYU-I Statistics Text</title>\n",
      "<title>Lesson 14: Inference for Several Means (ANOVA) - BYU-I Statistics Text</title>\n",
      "<title>Lesson 15: Review for Exam 2 - BYU-I Statistics Text</title>\n",
      "<title>Lesson 16: Describing Categorical Data: Proportions; Sampling Distribution of a Sample Proportion - BYU-I Statistics Text</title>\n",
      "<title>Lesson 17: Inference for One Proportion - BYU-I Statistics Text</title>\n",
      "<title>Lesson 18: Inference for Two Proportions - BYU-I Statistics Text</title>\n",
      "<title>Lesson 19: Inference for Independence of Categorical Data - BYU-I Statistics Text</title>\n",
      "<title>Lesson 20: Review for Exam 3 - BYU-I Statistics Text</title>\n",
      "<title>Lesson 21: Describing Bivariate Data: Scatterplots - BYU-I Statistics Text</title>\n",
      "<title>Correlation - BYU-I Statistics Text</title>\n",
      "<title>&amp; Covariance - BYU-I Statistics Text</title>\n",
      "<title>Lesson 22: Simple Linear Regression - BYU-I Statistics Text</title>\n",
      "<title>Lesson 23: Inference for Bivariate Data - BYU-I Statistics Text</title>\n",
      "<title>Lesson 24: Review for Exam 4 - BYU-I Statistics Text</title>\n",
      "<title>Bad title - BYU-I Statistics Text</title>\n",
      "<title>Lesson 1: Course Introduction - BYU-I Statistics Text</title>\n",
      "<title>Lesson 2: The Statistical Process &amp; Design of Studies - BYU-I Statistics Text</title>\n",
      "<title>Lesson 3: Describing Quantitative Data - BYU-I Statistics Text</title>\n",
      "<title>Lesson 4: Probability; Discrete Random Variables - BYU-I Statistics Text</title>\n",
      "<title>Lesson 5: Normal Distributions - BYU-I Statistics Text</title>\n",
      "<title>Lesson 6: Distribution of Sample Means - BYU-I Statistics Text</title>\n",
      "<title>Lesson 7: Probability Calculations involving a Mean Response - BYU-I Statistics Text</title>\n",
      "<title>Lesson 8: Review for Exam 1 - BYU-I Statistics Text</title>\n",
      "<title>Lesson 9: Inference for One Mean: Sigma Known (Hypothesis Test) - BYU-I Statistics Text</title>\n",
      "<title>Lesson 10: Inference for One Mean: Sigma Known (Confidence Interval) - BYU-I Statistics Text</title>\n",
      "<title>Lesson 11: Inference for One Mean: Sigma Unknown - BYU-I Statistics Text</title>\n",
      "<title>Lesson 12: Inference for Two Means: Paired Data - BYU-I Statistics Text</title>\n",
      "<title>Lesson 13: Inference for Two Means: Independent Samples - BYU-I Statistics Text</title>\n",
      "<title>Lesson 14: Inference for Several Means (ANOVA) - BYU-I Statistics Text</title>\n",
      "<title>Lesson 15: Review for Exam 2 - BYU-I Statistics Text</title>\n",
      "<title>Lesson 16: Describing Categorical Data: Proportions; Sampling Distribution of a Sample Proportion - BYU-I Statistics Text</title>\n",
      "<title>Lesson 17: Inference for One Proportion - BYU-I Statistics Text</title>\n",
      "<title>Lesson 18: Inference for Two Proportions - BYU-I Statistics Text</title>\n",
      "<title>Lesson 19: Inference for Independence of Categorical Data - BYU-I Statistics Text</title>\n",
      "<title>Lesson 20: Review for Exam 3 - BYU-I Statistics Text</title>\n",
      "<title>Lesson 21: Describing Bivariate Data: Scatterplots - BYU-I Statistics Text</title>\n",
      "<title>Correlation - BYU-I Statistics Text</title>\n",
      "<title>&amp; Covariance - BYU-I Statistics Text</title>\n",
      "<title>Lesson 22: Simple Linear Regression - BYU-I Statistics Text</title>\n",
      "<title>Lesson 23: Inference for Bivariate Data - BYU-I Statistics Text</title>\n",
      "<title>Lesson 24: Review for Exam 4 - BYU-I Statistics Text</title>\n",
      "<title>Bad title - BYU-I Statistics Text</title>\n",
      "<title>Lesson 1: Course Introduction - BYU-I Statistics Text</title>\n",
      "<title>Lesson 2: The Statistical Process &amp; Design of Studies - BYU-I Statistics Text</title>\n",
      "<title>Lesson 3: Describing Quantitative Data - BYU-I Statistics Text</title>\n",
      "<title>Lesson 4: Probability; Discrete Random Variables - BYU-I Statistics Text</title>\n",
      "<title>Lesson 5: Normal Distributions - BYU-I Statistics Text</title>\n",
      "<title>Lesson 6: Distribution of Sample Means - BYU-I Statistics Text</title>\n",
      "<title>Lesson 7: Probability Calculations involving a Mean Response - BYU-I Statistics Text</title>\n",
      "<title>Lesson 8: Review for Exam 1 - BYU-I Statistics Text</title>\n",
      "<title>Lesson 9: Inference for One Mean: Sigma Known (Hypothesis Test) - BYU-I Statistics Text</title>\n",
      "<title>Lesson 10: Inference for One Mean: Sigma Known (Confidence Interval) - BYU-I Statistics Text</title>\n",
      "<title>Lesson 11: Inference for One Mean: Sigma Unknown - BYU-I Statistics Text</title>\n",
      "<title>Lesson 12: Inference for Two Means: Paired Data - BYU-I Statistics Text</title>\n",
      "<title>Lesson 13: Inference for Two Means: Independent Samples - BYU-I Statistics Text</title>\n",
      "<title>Lesson 14: Inference for Several Means (ANOVA) - BYU-I Statistics Text</title>\n",
      "<title>Lesson 15: Review for Exam 2 - BYU-I Statistics Text</title>\n",
      "<title>Lesson 16: Describing Categorical Data: Proportions; Sampling Distribution of a Sample Proportion - BYU-I Statistics Text</title>\n",
      "<title>Lesson 17: Inference for One Proportion - BYU-I Statistics Text</title>\n",
      "<title>Lesson 18: Inference for Two Proportions - BYU-I Statistics Text</title>\n",
      "<title>Lesson 19: Inference for Independence of Categorical Data - BYU-I Statistics Text</title>\n",
      "<title>Lesson 20: Review for Exam 3 - BYU-I Statistics Text</title>\n",
      "<title>Lesson 21: Describing Bivariate Data: Scatterplots - BYU-I Statistics Text</title>\n",
      "<title>Correlation - BYU-I Statistics Text</title>\n",
      "<title>&amp; Covariance - BYU-I Statistics Text</title>\n",
      "<title>Lesson 22: Simple Linear Regression - BYU-I Statistics Text</title>\n",
      "<title>Lesson 23: Inference for Bivariate Data - BYU-I Statistics Text</title>\n",
      "<title>Lesson 24: Review for Exam 4 - BYU-I Statistics Text</title>\n",
      "<title>Bad title - BYU-I Statistics Text</title>\n",
      "<title>Lesson 1: Course Introduction - BYU-I Statistics Text</title>\n",
      "<title>Lesson 2: The Statistical Process &amp; Design of Studies - BYU-I Statistics Text</title>\n",
      "<title>Lesson 3: Describing Quantitative Data - BYU-I Statistics Text</title>\n",
      "<title>Lesson 4: Probability; Discrete Random Variables - BYU-I Statistics Text</title>\n",
      "<title>Lesson 5: Normal Distributions - BYU-I Statistics Text</title>\n",
      "<title>Lesson 6: Distribution of Sample Means - BYU-I Statistics Text</title>\n",
      "<title>Lesson 7: Probability Calculations involving a Mean Response - BYU-I Statistics Text</title>\n",
      "<title>Lesson 8: Review for Exam 1 - BYU-I Statistics Text</title>\n",
      "<title>Lesson 9: Inference for One Mean: Sigma Known (Hypothesis Test) - BYU-I Statistics Text</title>\n",
      "<title>Lesson 10: Inference for One Mean: Sigma Known (Confidence Interval) - BYU-I Statistics Text</title>\n",
      "<title>Lesson 11: Inference for One Mean: Sigma Unknown - BYU-I Statistics Text</title>\n",
      "<title>Lesson 12: Inference for Two Means: Paired Data - BYU-I Statistics Text</title>\n",
      "<title>Lesson 13: Inference for Two Means: Independent Samples - BYU-I Statistics Text</title>\n",
      "<title>Lesson 14: Inference for Several Means (ANOVA) - BYU-I Statistics Text</title>\n",
      "<title>Lesson 15: Review for Exam 2 - BYU-I Statistics Text</title>\n",
      "<title>Lesson 16: Describing Categorical Data: Proportions; Sampling Distribution of a Sample Proportion - BYU-I Statistics Text</title>\n",
      "<title>Lesson 17: Inference for One Proportion - BYU-I Statistics Text</title>\n",
      "<title>Lesson 18: Inference for Two Proportions - BYU-I Statistics Text</title>\n"
     ]
    },
    {
     "name": "stdout",
     "output_type": "stream",
     "text": [
      "<title>Lesson 19: Inference for Independence of Categorical Data - BYU-I Statistics Text</title>\n",
      "<title>Lesson 20: Review for Exam 3 - BYU-I Statistics Text</title>\n",
      "<title>Lesson 21: Describing Bivariate Data: Scatterplots - BYU-I Statistics Text</title>\n",
      "<title>Correlation - BYU-I Statistics Text</title>\n",
      "<title>&amp; Covariance - BYU-I Statistics Text</title>\n",
      "<title>Lesson 22: Simple Linear Regression - BYU-I Statistics Text</title>\n",
      "<title>Lesson 23: Inference for Bivariate Data - BYU-I Statistics Text</title>\n",
      "<title>Lesson 24: Review for Exam 4 - BYU-I Statistics Text</title>\n",
      "<title>Bad title - BYU-I Statistics Text</title>\n",
      "1 loop, best of 3: 34 s per loop\n"
     ]
    }
   ],
   "source": [
    "%%timeit\n",
    "without_threads(start_url, titles_list)"
   ]
  },
  {
   "cell_type": "markdown",
   "metadata": {},
   "source": [
    "---\n",
    "# Conclusion: \n",
    "\n",
    "* Without Threads: **34s**\n",
    "* With Threads: **4s**\n",
    "\n",
    "Over three different tests for each loop, the results are pretty clear. There is actually an **88.24%** increase in efficiency using multithreading. I will note however that my results have been different depending on the testing method. For example: I got an 82% increase in speed by running the program in Atom. Not a huge difference, but definitely notable. "
   ]
  }
 ],
 "metadata": {
  "kernelspec": {
   "display_name": "Python 3",
   "language": "python",
   "name": "python3"
  },
  "language_info": {
   "codemirror_mode": {
    "name": "ipython",
    "version": 3
   },
   "file_extension": ".py",
   "mimetype": "text/x-python",
   "name": "python",
   "nbconvert_exporter": "python",
   "pygments_lexer": "ipython3",
   "version": "3.6.1"
  }
 },
 "nbformat": 4,
 "nbformat_minor": 2
}
